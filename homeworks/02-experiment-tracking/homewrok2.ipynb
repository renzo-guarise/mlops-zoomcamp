{
 "cells": [
  {
   "cell_type": "code",
   "execution_count": 1,
   "id": "21d440c3",
   "metadata": {},
   "outputs": [],
   "source": [
    "%load_ext autoreload\n",
    "%autoreload 2"
   ]
  },
  {
   "cell_type": "code",
   "execution_count": 2,
   "id": "14e739db",
   "metadata": {},
   "outputs": [],
   "source": [
    "import sys\n",
    "sys.path.append(\"./\")"
   ]
  },
  {
   "attachments": {},
   "cell_type": "markdown",
   "metadata": {},
   "source": [
    "### Q1. Install the package"
   ]
  },
  {
   "cell_type": "code",
   "execution_count": 1,
   "metadata": {},
   "outputs": [
    {
     "name": "stdout",
     "output_type": "stream",
     "text": [
      "mlflow, version 2.3.2\n"
     ]
    }
   ],
   "source": [
    "!mlflow --version"
   ]
  },
  {
   "attachments": {},
   "cell_type": "markdown",
   "metadata": {},
   "source": [
    "### Q2. Download and preprocess the data"
   ]
  },
  {
   "cell_type": "code",
   "execution_count": 10,
   "metadata": {},
   "outputs": [],
   "source": [
    "!python /Users/rguarise/Documents/mlops-zoomcamp/cohorts/2023/02-experiment-tracking/homework/preprocess_data.py --raw_data_path /Users/rguarise/Documents/mlops-zoomcamp/data/ --dest_path ./output"
   ]
  },
  {
   "cell_type": "code",
   "execution_count": 24,
   "metadata": {},
   "outputs": [
    {
     "name": "stdout",
     "output_type": "stream",
     "text": [
      "total 14208\n",
      "-rw-r--r--  1 rguarise  1010544492   153660 Jun  1 19:30 dv.pkl\n",
      "-rw-r--r--  1 rguarise  1010544492  2632817 Jun  1 19:30 test.pkl\n",
      "-rw-r--r--  1 rguarise  1010544492  2146163 Jun  1 19:30 train.pkl\n",
      "-rw-r--r--  1 rguarise  1010544492  2336393 Jun  1 19:30 val.pkl\n"
     ]
    }
   ],
   "source": [
    "!ls -l /Users/rguarise/Documents/mlops-zoomcamp/homeworks/02-experiment-tracking/output"
   ]
  },
  {
   "attachments": {},
   "cell_type": "markdown",
   "metadata": {},
   "source": [
    "### Q3. Train a model with autolog"
   ]
  },
  {
   "cell_type": "code",
   "execution_count": 3,
   "metadata": {},
   "outputs": [
    {
     "name": "stderr",
     "output_type": "stream",
     "text": [
      "2023/06/01 19:58:38 INFO mlflow.tracking.fluent: Experiment with name 'nyc-taxi-homework2' does not exist. Creating a new experiment.\n"
     ]
    },
    {
     "data": {
      "text/plain": [
       "<Experiment: artifact_location='/Users/rguarise/Documents/mlops-zoomcamp/homeworks/02-experiment-tracking/mlruns/1', creation_time=1685660318901, experiment_id='1', last_update_time=1685660318901, lifecycle_stage='active', name='nyc-taxi-homework2', tags={}>"
      ]
     },
     "execution_count": 3,
     "metadata": {},
     "output_type": "execute_result"
    }
   ],
   "source": [
    "import mlflow\n",
    "import utils.train as train"
   ]
  },
  {
   "cell_type": "code",
   "execution_count": 4,
   "metadata": {},
   "outputs": [],
   "source": [
    "mlflow.sklearn.autolog()"
   ]
  },
  {
   "cell_type": "code",
   "execution_count": 6,
   "metadata": {},
   "outputs": [
    {
     "name": "stderr",
     "output_type": "stream",
     "text": [
      "2023/06/01 19:59:18 WARNING mlflow.utils.autologging_utils: MLflow autologging encountered a warning: \"/Users/rguarise/Library/Caches/pypoetry/virtualenvs/poetry_shell-XdBlMnFf-py3.8/lib/python3.8/site-packages/_distutils_hack/__init__.py:33: UserWarning: Setuptools is replacing distutils.\"\n"
     ]
    }
   ],
   "source": [
    "with mlflow.start_run():\n",
    "    train.run_train(\"/Users/rguarise/Documents/mlops-zoomcamp/homeworks/02-experiment-tracking/output/\")"
   ]
  },
  {
   "attachments": {},
   "cell_type": "markdown",
   "metadata": {},
   "source": [
    "### Q4. Tune model hyperparameters"
   ]
  },
  {
   "cell_type": "code",
   "execution_count": 9,
   "metadata": {},
   "outputs": [],
   "source": [
    "mlflow.sklearn.autolog(disable=True)"
   ]
  },
  {
   "cell_type": "code",
   "execution_count": 20,
   "metadata": {},
   "outputs": [
    {
     "name": "stderr",
     "output_type": "stream",
     "text": [
      "[I 2023-06-01 20:20:36,913] A new study created in memory with name: no-name-f8fe2310-9822-4e23-a405-ee1510b1ee11\n",
      "[I 2023-06-01 20:20:38,501] Trial 0 finished with value: 2.451379690825458 and parameters: {'n_estimators': 25, 'max_depth': 20, 'min_samples_split': 8, 'min_samples_leaf': 3}. Best is trial 0 with value: 2.451379690825458.\n"
     ]
    }
   ],
   "source": [
    "import utils.hpo as hpo\n",
    "with mlflow.start_run():\n",
    "    hpo.run_optimization(\"/Users/rguarise/Documents/mlops-zoomcamp/homeworks/02-experiment-tracking/output/\",1)"
   ]
  },
  {
   "attachments": {},
   "cell_type": "markdown",
   "metadata": {},
   "source": [
    "### Q5. Promote the best model to the model registry"
   ]
  },
  {
   "cell_type": "code",
   "execution_count": 45,
   "metadata": {},
   "outputs": [
    {
     "name": "stderr",
     "output_type": "stream",
     "text": [
      "Registered model 'best_modle' already exists. Creating a new version of this model...\n",
      "2023/06/01 20:43:50 INFO mlflow.tracking._model_registry.client: Waiting up to 300 seconds for model version to finish creation. Model name: best_modle, version 3\n",
      "Created version '3' of model 'best_modle'.\n"
     ]
    }
   ],
   "source": [
    "import utils.register_model as register_model\n",
    "\n",
    "register_model.run_register_model(\"/Users/rguarise/Documents/mlops-zoomcamp/homeworks/02-experiment-tracking/output/\",4)"
   ]
  }
 ],
 "metadata": {
  "kernelspec": {
   "display_name": "poetry_shell-XdBlMnFf-py3.8",
   "language": "python",
   "name": "python3"
  },
  "language_info": {
   "codemirror_mode": {
    "name": "ipython",
    "version": 3
   },
   "file_extension": ".py",
   "mimetype": "text/x-python",
   "name": "python",
   "nbconvert_exporter": "python",
   "pygments_lexer": "ipython3",
   "version": "3.8.15"
  },
  "orig_nbformat": 4,
  "vscode": {
   "interpreter": {
    "hash": "6d5bfa586331e04b26c06f1f84a406c48579a6d0aed5b01de0f1451b7bc81189"
   }
  }
 },
 "nbformat": 4,
 "nbformat_minor": 2
}
