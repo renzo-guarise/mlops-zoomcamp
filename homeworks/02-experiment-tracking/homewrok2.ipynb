{
 "cells": [
  {
   "cell_type": "code",
   "execution_count": 1,
   "id": "21d440c3",
   "metadata": {},
   "outputs": [],
   "source": [
    "%load_ext autoreload\n",
    "%autoreload 2"
   ]
  },
  {
   "cell_type": "code",
   "execution_count": 2,
   "id": "14e739db",
   "metadata": {},
   "outputs": [],
   "source": [
    "import sys\n",
    "sys.path.append(\"./\")"
   ]
  },
  {
   "attachments": {},
   "cell_type": "markdown",
   "metadata": {},
   "source": [
    "### Q1. Install the package"
   ]
  },
  {
   "cell_type": "code",
   "execution_count": 1,
   "metadata": {},
   "outputs": [
    {
     "name": "stdout",
     "output_type": "stream",
     "text": [
      "mlflow, version 2.3.2\n"
     ]
    }
   ],
   "source": [
    "!mlflow --version"
   ]
  },
  {
   "attachments": {},
   "cell_type": "markdown",
   "metadata": {},
   "source": [
    "### Q2. Download and preprocess the data"
   ]
  },
  {
   "cell_type": "code",
   "execution_count": 55,
   "metadata": {},
   "outputs": [
    {
     "name": "stdout",
     "output_type": "stream",
     "text": [
      "/Users/rguarise/Documents/mlops-zoomcamp/homeworks/02-experiment-tracking\n"
     ]
    }
   ],
   "source": [
    "!pwd"
   ]
  },
  {
   "cell_type": "code",
   "execution_count": 58,
   "metadata": {},
   "outputs": [],
   "source": [
    "!python ./utils/preprocess_data.py --raw_data_path $HOME/Documents/mlops-zoomcamp/data/ --dest_path ./output"
   ]
  },
  {
   "cell_type": "code",
   "execution_count": 59,
   "metadata": {},
   "outputs": [
    {
     "name": "stdout",
     "output_type": "stream",
     "text": [
      "total 17320\n",
      "-rw-r--r--  1 rguarise  1010544492   153660 Jun  1 21:41 dv.pkl\n",
      "-rw-r--r--  1 rguarise  1010544492  2632817 Jun  1 21:41 test.pkl\n",
      "-rw-r--r--  1 rguarise  1010544492  2146163 Jun  1 21:41 train.pkl\n",
      "-rw-r--r--  1 rguarise  1010544492  2336393 Jun  1 21:41 val.pkl\n"
     ]
    }
   ],
   "source": [
    "!ls -l ./output"
   ]
  },
  {
   "attachments": {},
   "cell_type": "markdown",
   "metadata": {},
   "source": [
    "### Q3. Train a model with autolog"
   ]
  },
  {
   "cell_type": "code",
   "execution_count": 5,
   "metadata": {},
   "outputs": [
    {
     "name": "stderr",
     "output_type": "stream",
     "text": [
      "2023/06/01 22:41:14 INFO mlflow.utils.autologging_utils: Created MLflow autologging run with ID 'eea9dd79fe704d8b9b022810a3060c39', which will track hyperparameters, performance metrics, model artifacts, and lineage information for the current sklearn workflow\n",
      "2023/06/01 22:41:27 WARNING mlflow.utils.autologging_utils: MLflow autologging encountered a warning: \"/Users/rguarise/Library/Caches/pypoetry/virtualenvs/poetry_shell-XdBlMnFf-py3.8/lib/python3.8/site-packages/_distutils_hack/__init__.py:33: UserWarning: Setuptools is replacing distutils.\"\n"
     ]
    }
   ],
   "source": [
    "import utils.train as train\n",
    "train.run_train(\"./output/\")"
   ]
  },
  {
   "attachments": {},
   "cell_type": "markdown",
   "metadata": {},
   "source": [
    "### Q4. Tune model hyperparameters"
   ]
  },
  {
   "cell_type": "code",
   "execution_count": 2,
   "metadata": {},
   "outputs": [
    {
     "name": "stderr",
     "output_type": "stream",
     "text": [
      "[I 2023-06-01 23:28:54,663] A new study created in memory with name: no-name-b64a1f27-0c28-4361-8a2a-b58f9b82fff8\n",
      "2023/06/01 23:29:08 WARNING mlflow.utils.autologging_utils: MLflow autologging encountered a warning: \"/Users/rguarise/Library/Caches/pypoetry/virtualenvs/poetry_shell-XdBlMnFf-py3.8/lib/python3.8/site-packages/_distutils_hack/__init__.py:33: UserWarning: Setuptools is replacing distutils.\"\n",
      "[I 2023-06-01 23:29:09,455] Trial 0 finished with value: 2.451379690825458 and parameters: {'n_estimators': 25, 'max_depth': 20, 'min_samples_split': 8, 'min_samples_leaf': 3}. Best is trial 0 with value: 2.451379690825458.\n",
      "[I 2023-06-01 23:29:19,114] Trial 1 finished with value: 2.4667366020368333 and parameters: {'n_estimators': 16, 'max_depth': 4, 'min_samples_split': 2, 'min_samples_leaf': 4}. Best is trial 0 with value: 2.451379690825458.\n",
      "[I 2023-06-01 23:29:31,683] Trial 2 finished with value: 2.449827329704216 and parameters: {'n_estimators': 34, 'max_depth': 15, 'min_samples_split': 2, 'min_samples_leaf': 4}. Best is trial 2 with value: 2.449827329704216.\n",
      "[I 2023-06-01 23:29:41,100] Trial 3 finished with value: 2.460983516558473 and parameters: {'n_estimators': 44, 'max_depth': 5, 'min_samples_split': 3, 'min_samples_leaf': 1}. Best is trial 2 with value: 2.449827329704216.\n",
      "[I 2023-06-01 23:29:49,917] Trial 4 finished with value: 2.453877262701052 and parameters: {'n_estimators': 22, 'max_depth': 11, 'min_samples_split': 5, 'min_samples_leaf': 2}. Best is trial 2 with value: 2.449827329704216.\n",
      "[I 2023-06-01 23:29:57,880] Trial 5 finished with value: 2.4720122094960733 and parameters: {'n_estimators': 35, 'max_depth': 3, 'min_samples_split': 4, 'min_samples_leaf': 2}. Best is trial 2 with value: 2.449827329704216.\n",
      "[I 2023-06-01 23:30:08,780] Trial 6 finished with value: 2.4516421799356767 and parameters: {'n_estimators': 28, 'max_depth': 16, 'min_samples_split': 3, 'min_samples_leaf': 3}. Best is trial 2 with value: 2.449827329704216.\n",
      "[I 2023-06-01 23:30:17,011] Trial 7 finished with value: 2.5374040268274087 and parameters: {'n_estimators': 34, 'max_depth': 1, 'min_samples_split': 7, 'min_samples_leaf': 1}. Best is trial 2 with value: 2.449827329704216.\n",
      "[I 2023-06-01 23:30:26,817] Trial 8 finished with value: 2.455971238567075 and parameters: {'n_estimators': 12, 'max_depth': 19, 'min_samples_split': 10, 'min_samples_leaf': 4}. Best is trial 2 with value: 2.449827329704216.\n",
      "[I 2023-06-01 23:30:35,280] Trial 9 finished with value: 2.486106021576535 and parameters: {'n_estimators': 22, 'max_depth': 2, 'min_samples_split': 8, 'min_samples_leaf': 2}. Best is trial 2 with value: 2.449827329704216.\n"
     ]
    }
   ],
   "source": [
    "import utils.hpo as hpo\n",
    "hpo.run_optimization(\"./output/\",10)"
   ]
  },
  {
   "attachments": {},
   "cell_type": "markdown",
   "metadata": {},
   "source": [
    "### Q5. Promote the best model to the model registry"
   ]
  },
  {
   "cell_type": "code",
   "execution_count": 2,
   "metadata": {},
   "outputs": [
    {
     "name": "stderr",
     "output_type": "stream",
     "text": [
      "2023/06/01 23:35:27 WARNING mlflow.utils.autologging_utils: MLflow autologging encountered a warning: \"/Users/rguarise/Library/Caches/pypoetry/virtualenvs/poetry_shell-XdBlMnFf-py3.8/lib/python3.8/site-packages/_distutils_hack/__init__.py:33: UserWarning: Setuptools is replacing distutils.\"\n",
      "Registered model 'best_model' already exists. Creating a new version of this model...\n",
      "2023/06/01 23:35:27 INFO mlflow.tracking._model_registry.client: Waiting up to 300 seconds for model version to finish creation. Model name: best_model, version 3\n"
     ]
    },
    {
     "name": "stdout",
     "output_type": "stream",
     "text": [
      "test_rmse: 2.2854691906481364\n"
     ]
    },
    {
     "name": "stderr",
     "output_type": "stream",
     "text": [
      "Created version '3' of model 'best_model'.\n"
     ]
    }
   ],
   "source": [
    "import utils.register_model as register_model\n",
    "register_model.run_register_model(\"./output/\",1)"
   ]
  }
 ],
 "metadata": {
  "kernelspec": {
   "display_name": "poetry_shell-XdBlMnFf-py3.8",
   "language": "python",
   "name": "python3"
  },
  "language_info": {
   "codemirror_mode": {
    "name": "ipython",
    "version": 3
   },
   "file_extension": ".py",
   "mimetype": "text/x-python",
   "name": "python",
   "nbconvert_exporter": "python",
   "pygments_lexer": "ipython3",
   "version": "3.8.15"
  },
  "orig_nbformat": 4,
  "vscode": {
   "interpreter": {
    "hash": "6d5bfa586331e04b26c06f1f84a406c48579a6d0aed5b01de0f1451b7bc81189"
   }
  }
 },
 "nbformat": 4,
 "nbformat_minor": 2
}
