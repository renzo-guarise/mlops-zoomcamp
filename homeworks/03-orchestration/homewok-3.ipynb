{
 "cells": [
  {
   "attachments": {},
   "cell_type": "markdown",
   "metadata": {},
   "source": [
    "### Q2. Cron"
   ]
  },
  {
   "cell_type": "code",
   "execution_count": 1,
   "metadata": {},
   "outputs": [
    {
     "name": "stdout",
     "output_type": "stream",
     "text": [
      "\u001b[32mUpdated deployment schedule!\u001b[0m\n"
     ]
    }
   ],
   "source": [
    "!prefect deployment set-schedule --cron '0 9 3 * *' 'main-flow/taxi_local_data'"
   ]
  },
  {
   "attachments": {},
   "cell_type": "markdown",
   "metadata": {},
   "source": [
    "### Q3. RMSE"
   ]
  },
  {
   "cell_type": "code",
   "execution_count": null,
   "metadata": {},
   "outputs": [],
   "source": [
    "!curl https://d37ci6vzurychx.cloudfront.net/trip-data/green_tripdata_2023-01.parquet --output green_tripdata_2023-01.parquet\n",
    "!curl https://d37ci6vzurychx.cloudfront.net/trip-data/green_tripdata_2023-02.parquet --output green_tripdata_2023-02.parquet"
   ]
  },
  {
   "attachments": {},
   "cell_type": "markdown",
   "metadata": {},
   "source": [
    "### Q4. RMSE (Markdown Artifact)"
   ]
  },
  {
   "cell_type": "code",
   "execution_count": 8,
   "metadata": {},
   "outputs": [
    {
     "name": "stdout",
     "output_type": "stream",
     "text": [
      "Creating flow run for deployment 'main-flow/taxi_local_data'...\n",
      "Created flow run 'prompt-uakari'.\n",
      "└── UUID: 34b63350-5775-47e2-ba47-89d97c134b9d\n",
      "└── Parameters: {}\n",
      "└── Scheduled start time: 2023-06-19 16:24:04 -03 (now)\n",
      "└── URL: \n",
      "http://127.0.0.1:4200/flow-runs/flow-run/34b63350-5775-47e2-ba47-89d97c134b9d\n"
     ]
    }
   ],
   "source": [
    "!prefect deployment run 'main-flow/taxi_local_data'"
   ]
  }
 ],
 "metadata": {
  "kernelspec": {
   "display_name": "poetry_shell-XdBlMnFf-py3.8",
   "language": "python",
   "name": "python3"
  },
  "language_info": {
   "codemirror_mode": {
    "name": "ipython",
    "version": 3
   },
   "file_extension": ".py",
   "mimetype": "text/x-python",
   "name": "python",
   "nbconvert_exporter": "python",
   "pygments_lexer": "ipython3",
   "version": "3.8.15"
  },
  "orig_nbformat": 4,
  "vscode": {
   "interpreter": {
    "hash": "6d5bfa586331e04b26c06f1f84a406c48579a6d0aed5b01de0f1451b7bc81189"
   }
  }
 },
 "nbformat": 4,
 "nbformat_minor": 2
}
